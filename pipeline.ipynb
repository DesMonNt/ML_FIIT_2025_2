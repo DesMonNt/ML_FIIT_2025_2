{
 "cells": [
  {
   "cell_type": "code",
   "id": "initial_id",
   "metadata": {
    "collapsed": true,
    "ExecuteTime": {
     "end_time": "2025-05-05T08:50:35.314367Z",
     "start_time": "2025-05-05T08:50:35.299133Z"
    }
   },
   "source": [
    "import pandas as pd\n",
    "import numpy as np"
   ],
   "outputs": [],
   "execution_count": 32
  },
  {
   "metadata": {
    "ExecuteTime": {
     "end_time": "2025-05-05T08:57:20.229948Z",
     "start_time": "2025-05-05T08:57:20.173401Z"
    }
   },
   "cell_type": "code",
   "source": [
    "df = pd.read_csv('train.csv')\n",
    "df.drop(columns=['product_name', 'category'], inplace=True)\n",
    "df"
   ],
   "id": "d0ca0ce6a65a2c1e",
   "outputs": [
    {
     "data": {
      "text/plain": [
       "                                             review_text  usefull  unusefull  \\\n",
       "0      Заказывали в подарок, коробка пришла не первой...        0          0   \n",
       "1                   товар пришёл раньше срока спасибо!!!        0         14   \n",
       "2      Красивый,не шумный,но работает только от сети....        2          5   \n",
       "3      как поет в своих песнях Раут \"хороший клоун - ...        1          0   \n",
       "4              Идеально подошла по размеру, все работают        1          0   \n",
       "...                                                  ...      ...        ...   \n",
       "11693  Все целое и сухое. Доставка в срок. Состав хор...        0          0   \n",
       "11694                                   Хорошо упакованы        0          0   \n",
       "11695  телефон супер,четыре дня держит заряд в постоя...        1          0   \n",
       "11696                      Прекрасно моет Окна и плитку.        1          0   \n",
       "11697       Шустрый, не сильно громкий, убирает хорошо.         3          0   \n",
       "\n",
       "       stars  \n",
       "0          5  \n",
       "1          5  \n",
       "2          3  \n",
       "3          5  \n",
       "4          5  \n",
       "...      ...  \n",
       "11693      5  \n",
       "11694      5  \n",
       "11695      5  \n",
       "11696      5  \n",
       "11697      5  \n",
       "\n",
       "[11698 rows x 4 columns]"
      ],
      "text/html": [
       "<div>\n",
       "<style scoped>\n",
       "    .dataframe tbody tr th:only-of-type {\n",
       "        vertical-align: middle;\n",
       "    }\n",
       "\n",
       "    .dataframe tbody tr th {\n",
       "        vertical-align: top;\n",
       "    }\n",
       "\n",
       "    .dataframe thead th {\n",
       "        text-align: right;\n",
       "    }\n",
       "</style>\n",
       "<table border=\"1\" class=\"dataframe\">\n",
       "  <thead>\n",
       "    <tr style=\"text-align: right;\">\n",
       "      <th></th>\n",
       "      <th>review_text</th>\n",
       "      <th>usefull</th>\n",
       "      <th>unusefull</th>\n",
       "      <th>stars</th>\n",
       "    </tr>\n",
       "  </thead>\n",
       "  <tbody>\n",
       "    <tr>\n",
       "      <th>0</th>\n",
       "      <td>Заказывали в подарок, коробка пришла не первой...</td>\n",
       "      <td>0</td>\n",
       "      <td>0</td>\n",
       "      <td>5</td>\n",
       "    </tr>\n",
       "    <tr>\n",
       "      <th>1</th>\n",
       "      <td>товар пришёл раньше срока спасибо!!!</td>\n",
       "      <td>0</td>\n",
       "      <td>14</td>\n",
       "      <td>5</td>\n",
       "    </tr>\n",
       "    <tr>\n",
       "      <th>2</th>\n",
       "      <td>Красивый,не шумный,но работает только от сети....</td>\n",
       "      <td>2</td>\n",
       "      <td>5</td>\n",
       "      <td>3</td>\n",
       "    </tr>\n",
       "    <tr>\n",
       "      <th>3</th>\n",
       "      <td>как поет в своих песнях Раут \"хороший клоун - ...</td>\n",
       "      <td>1</td>\n",
       "      <td>0</td>\n",
       "      <td>5</td>\n",
       "    </tr>\n",
       "    <tr>\n",
       "      <th>4</th>\n",
       "      <td>Идеально подошла по размеру, все работают</td>\n",
       "      <td>1</td>\n",
       "      <td>0</td>\n",
       "      <td>5</td>\n",
       "    </tr>\n",
       "    <tr>\n",
       "      <th>...</th>\n",
       "      <td>...</td>\n",
       "      <td>...</td>\n",
       "      <td>...</td>\n",
       "      <td>...</td>\n",
       "    </tr>\n",
       "    <tr>\n",
       "      <th>11693</th>\n",
       "      <td>Все целое и сухое. Доставка в срок. Состав хор...</td>\n",
       "      <td>0</td>\n",
       "      <td>0</td>\n",
       "      <td>5</td>\n",
       "    </tr>\n",
       "    <tr>\n",
       "      <th>11694</th>\n",
       "      <td>Хорошо упакованы</td>\n",
       "      <td>0</td>\n",
       "      <td>0</td>\n",
       "      <td>5</td>\n",
       "    </tr>\n",
       "    <tr>\n",
       "      <th>11695</th>\n",
       "      <td>телефон супер,четыре дня держит заряд в постоя...</td>\n",
       "      <td>1</td>\n",
       "      <td>0</td>\n",
       "      <td>5</td>\n",
       "    </tr>\n",
       "    <tr>\n",
       "      <th>11696</th>\n",
       "      <td>Прекрасно моет Окна и плитку.</td>\n",
       "      <td>1</td>\n",
       "      <td>0</td>\n",
       "      <td>5</td>\n",
       "    </tr>\n",
       "    <tr>\n",
       "      <th>11697</th>\n",
       "      <td>Шустрый, не сильно громкий, убирает хорошо.</td>\n",
       "      <td>3</td>\n",
       "      <td>0</td>\n",
       "      <td>5</td>\n",
       "    </tr>\n",
       "  </tbody>\n",
       "</table>\n",
       "<p>11698 rows × 4 columns</p>\n",
       "</div>"
      ]
     },
     "execution_count": 37,
     "metadata": {},
     "output_type": "execute_result"
    }
   ],
   "execution_count": 37
  },
  {
   "metadata": {
    "ExecuteTime": {
     "end_time": "2025-05-05T08:50:37.388351Z",
     "start_time": "2025-05-05T08:50:35.378325Z"
    }
   },
   "cell_type": "code",
   "source": [
    "from catboost import CatBoostClassifier\n",
    "from sklearn.feature_extraction.text import TfidfVectorizer\n",
    "from sklearn.naive_bayes import MultinomialNB\n",
    "from imblearn.over_sampling import RandomOverSampler\n",
    "from sklearn.model_selection import train_test_split\n",
    "from sklearn.metrics import classification_report, f1_score\n",
    "\n",
    "\n",
    "df['net_votes'] = df['usefull'] - df['unusefull']\n",
    "X_text = df['review_text']\n",
    "X_num = df[['usefull', 'unusefull', 'net_votes']]\n",
    "y = df['stars']\n",
    "\n",
    "vectorizer = TfidfVectorizer(ngram_range=(1, 2), max_features=10000)\n",
    "X_vec = vectorizer.fit_transform(X_text)\n",
    "\n",
    "X_train_vec, X_holdout_vec, y_train, y_holdout, idx_train, idx_holdout = train_test_split(\n",
    "    X_vec, y, df.index, stratify=y, random_state=42\n",
    ")\n",
    "\n",
    "ros = RandomOverSampler(random_state=42)\n",
    "X_resampled, y_resampled = ros.fit_resample(X_train_vec, y_train)\n",
    "\n",
    "nb = MultinomialNB()\n",
    "nb.fit(X_resampled, y_resampled)\n",
    "\n",
    "X_nb_all = nb.predict_proba(X_vec)\n",
    "\n",
    "X_catboost = pd.DataFrame(X_nb_all, columns=[f'nb_proba_{i}' for i in range(1, 6)])\n",
    "X_catboost = pd.concat([X_catboost, X_num.reset_index(drop=True)], axis=1)\n",
    "\n",
    "cat_model = CatBoostClassifier(\n",
    "    iterations=500,\n",
    "    learning_rate=0.1,\n",
    "    depth=6,\n",
    "    auto_class_weights='Balanced',\n",
    "    verbose=100\n",
    ")\n",
    "\n",
    "cat_model.fit(X_catboost, y)\n",
    "y_pred = cat_model.predict(X_catboost)\n",
    "\n",
    "print(\"F1 (macro):\", f1_score(y, y_pred, average='macro'))\n",
    "print(\"F1 (weighted):\", f1_score(y, y_pred, average='weighted'))\n",
    "print(\"\\n\", classification_report(y, y_pred))"
   ],
   "id": "f4ed492ee2979a9",
   "outputs": [
    {
     "name": "stdout",
     "output_type": "stream",
     "text": [
      "0:\tlearn: 1.3985933\ttotal: 142ms\tremaining: 1m 10s\n",
      "100:\tlearn: 0.5030914\ttotal: 427ms\tremaining: 1.69s\n",
      "200:\tlearn: 0.4002660\ttotal: 720ms\tremaining: 1.07s\n",
      "300:\tlearn: 0.3436042\ttotal: 1.02s\tremaining: 672ms\n",
      "400:\tlearn: 0.2993116\ttotal: 1.31s\tremaining: 323ms\n",
      "499:\tlearn: 0.2675675\ttotal: 1.59s\tremaining: 0us\n",
      "F1 (macro): 0.8377759150561722\n",
      "F1 (weighted): 0.902326321541161\n",
      "\n",
      "               precision    recall  f1-score   support\n",
      "\n",
      "           1       0.84      0.94      0.89       956\n",
      "           2       0.78      0.97      0.86       362\n",
      "           3       0.70      0.94      0.80       645\n",
      "           4       0.59      0.86      0.70       947\n",
      "           5       0.98      0.89      0.93      8788\n",
      "\n",
      "    accuracy                           0.90     11698\n",
      "   macro avg       0.78      0.92      0.84     11698\n",
      "weighted avg       0.92      0.90      0.90     11698\n",
      "\n"
     ]
    }
   ],
   "execution_count": 34
  },
  {
   "metadata": {
    "ExecuteTime": {
     "end_time": "2025-05-05T08:51:51.917256Z",
     "start_time": "2025-05-05T08:51:51.373384Z"
    }
   },
   "cell_type": "code",
   "source": [
    "import matplotlib.pyplot as plt\n",
    "\n",
    "feature_importances = cat_model.get_feature_importance(prettified=True)\n",
    "feature_importances = feature_importances.sort_values('Importances', ascending=False)\n",
    "\n",
    "plt.figure(figsize=(10, 6))\n",
    "plt.barh(feature_importances['Feature Id'][:10], feature_importances['Importances'][:10])\n",
    "plt.xlabel(\"Importance\")\n",
    "plt.title(\"Top 10 Feature Importances (CatBoost)\")\n",
    "plt.gca().invert_yaxis()\n",
    "plt.show()"
   ],
   "id": "10c7593e54fa04e5",
   "outputs": [
    {
     "name": "stdout",
     "output_type": "stream",
     "text": [
      "   Feature Id  Importances\n",
      "0  nb_proba_5    22.018270\n",
      "1  nb_proba_2    17.674200\n",
      "2  nb_proba_1    17.589233\n",
      "3  nb_proba_3    17.413571\n",
      "4  nb_proba_4    16.881202\n",
      "5     usefull     3.413594\n",
      "6   net_votes     3.384470\n",
      "7   unusefull     1.625460\n"
     ]
    },
    {
     "data": {
      "text/plain": [
       "<Figure size 1000x600 with 1 Axes>"
      ],
      "image/png": "[encoded data removed]"
     },
     "metadata": {},
     "output_type": "display_data"
    }
   ],
   "execution_count": 35
  },
  {
   "metadata": {
    "ExecuteTime": {
     "end_time": "2025-05-05T09:00:21.215273Z",
     "start_time": "2025-05-05T09:00:21.143818Z"
    }
   },
   "cell_type": "code",
   "source": [
    "df_test = pd.read_csv('test.csv')\n",
    "df_test['net_votes'] = df_test['usefull'] - df_test['unusefull']\n",
    "\n",
    "X_test_vec = vectorizer.transform(df_test['review_text'])\n",
    "\n",
    "X_nb_test = nb.predict_proba(X_test_vec)\n",
    "\n",
    "X_test_catboost = pd.DataFrame(X_nb_test, columns=[f'nb_proba_{i}' for i in range(1, 6)])\n",
    "X_test_catboost = pd.concat([X_test_catboost, df_test[['usefull', 'unusefull', 'net_votes']].reset_index(drop=True)], axis=1)\n",
    "\n",
    "y_pred_test = cat_model.predict(X_test_catboost)\n",
    "\n",
    "if len(y_pred_test.shape) > 1:\n",
    "    y_pred_test = y_pred_test.ravel()\n",
    "    \n",
    "submission = pd.DataFrame({\n",
    "    '_id': df_test['_id'],\n",
    "    'stars': y_pred_test\n",
    "})\n",
    "\n",
    "submission.to_csv('submission.csv', index=False)"
   ],
   "id": "4a0681bed4537b55",
   "outputs": [],
   "execution_count": 45
  },
  {
   "metadata": {
    "ExecuteTime": {
     "end_time": "2025-05-05T09:14:22.300137Z",
     "start_time": "2025-05-05T09:14:22.199434Z"
    }
   },
   "cell_type": "code",
   "source": [
    "import joblib\n",
    "\n",
    "joblib.dump(vectorizer, 'vectorizer.joblib')\n",
    "joblib.dump(nb, 'nb_model.joblib')\n",
    "cat_model.save_model('catboost_model.cbm')"
   ],
   "id": "bd29c8085f3a245b",
   "outputs": [],
   "execution_count": 46
  }
 ],
 "metadata": {
  "kernelspec": {
   "display_name": "Python 3",
   "language": "python",
   "name": "python3"
  },
  "language_info": {
   "codemirror_mode": {
    "name": "ipython",
    "version": 2
   },
   "file_extension": ".py",
   "mimetype": "text/x-python",
   "name": "python",
   "nbconvert_exporter": "python",
   "pygments_lexer": "ipython2",
   "version": "2.7.6"
  }
 },
 "nbformat": 4,
 "nbformat_minor": 5
}
