{
 "cells": [
  {
   "cell_type": "code",
   "id": "initial_id",
   "metadata": {
    "collapsed": true,
    "ExecuteTime": {
     "end_time": "2025-05-18T13:06:31.706245Z",
     "start_time": "2025-05-18T13:06:31.692733Z"
    }
   },
   "source": [
    "import pandas as pd\n",
    "import numpy as np\n",
    "import torch"
   ],
   "outputs": [],
   "execution_count": 160
  },
  {
   "metadata": {
    "ExecuteTime": {
     "end_time": "2025-05-18T13:06:31.722264Z",
     "start_time": "2025-05-18T13:06:31.710246Z"
    }
   },
   "cell_type": "code",
   "source": [
    "RANDOM_STATE = 42\n",
    "TRAIN = False\n",
    "DEMONSTRATION = True\n",
    "\n",
    "MODEL = 'DeepPavlov/rubert-base-cased'\n",
    "OUTPUT_PATH = f'output/{MODEL}-finetuned'\n",
    "MODEL_PATH = f'models/{MODEL}-finetuned'"
   ],
   "id": "5cfc13df78b1d7f1",
   "outputs": [],
   "execution_count": 161
  },
  {
   "metadata": {
    "ExecuteTime": {
     "end_time": "2025-05-18T13:06:31.800510Z",
     "start_time": "2025-05-18T13:06:31.754482Z"
    }
   },
   "cell_type": "code",
   "source": [
    "df = pd.read_csv('train.csv')\n",
    "df.drop(columns=['usefull', 'unusefull'], inplace=True)\n",
    "df"
   ],
   "id": "63b9e99d2a55cc4",
   "outputs": [
    {
     "data": {
      "text/plain": [
       "                                             review_text  \\\n",
       "0      Заказывали в подарок, коробка пришла не первой...   \n",
       "1                   товар пришёл раньше срока спасибо!!!   \n",
       "2      Красивый,не шумный,но работает только от сети....   \n",
       "3      как поет в своих песнях Раут \"хороший клоун - ...   \n",
       "4              Идеально подошла по размеру, все работают   \n",
       "...                                                  ...   \n",
       "11693  Все целое и сухое. Доставка в срок. Состав хор...   \n",
       "11694                                   Хорошо упакованы   \n",
       "11695  телефон супер,четыре дня держит заряд в постоя...   \n",
       "11696                      Прекрасно моет Окна и плитку.   \n",
       "11697       Шустрый, не сильно громкий, убирает хорошо.    \n",
       "\n",
       "                             product_name            category  stars  \n",
       "0      Ультразвуковой увлажнитель воздуха     Бытовая техника      5  \n",
       "1                  Анаболический комплекс  Спортивное питание      5  \n",
       "2                    Робот для мойки окон     Бытовая техника      3  \n",
       "3              Предтренировочный комплекс  Спортивное питание      5  \n",
       "4                     Умная дверная ручка     Бытовая техника      5  \n",
       "...                                   ...                 ...    ...  \n",
       "11693                 Удобрение для сливы        Сад и огород      5  \n",
       "11694                             Тапочки              Одежда      5  \n",
       "11695                            Смартфон         Электроника      5  \n",
       "11696                   Робот мойщик окон     Бытовая техника      5  \n",
       "11697                   Робот мойщик окон     Бытовая техника      5  \n",
       "\n",
       "[11698 rows x 4 columns]"
      ],
      "text/html": [
       "<div>\n",
       "<style scoped>\n",
       "    .dataframe tbody tr th:only-of-type {\n",
       "        vertical-align: middle;\n",
       "    }\n",
       "\n",
       "    .dataframe tbody tr th {\n",
       "        vertical-align: top;\n",
       "    }\n",
       "\n",
       "    .dataframe thead th {\n",
       "        text-align: right;\n",
       "    }\n",
       "</style>\n",
       "<table border=\"1\" class=\"dataframe\">\n",
       "  <thead>\n",
       "    <tr style=\"text-align: right;\">\n",
       "      <th></th>\n",
       "      <th>review_text</th>\n",
       "      <th>product_name</th>\n",
       "      <th>category</th>\n",
       "      <th>stars</th>\n",
       "    </tr>\n",
       "  </thead>\n",
       "  <tbody>\n",
       "    <tr>\n",
       "      <th>0</th>\n",
       "      <td>Заказывали в подарок, коробка пришла не первой...</td>\n",
       "      <td>Ультразвуковой увлажнитель воздуха</td>\n",
       "      <td>Бытовая техника</td>\n",
       "      <td>5</td>\n",
       "    </tr>\n",
       "    <tr>\n",
       "      <th>1</th>\n",
       "      <td>товар пришёл раньше срока спасибо!!!</td>\n",
       "      <td>Анаболический комплекс</td>\n",
       "      <td>Спортивное питание</td>\n",
       "      <td>5</td>\n",
       "    </tr>\n",
       "    <tr>\n",
       "      <th>2</th>\n",
       "      <td>Красивый,не шумный,но работает только от сети....</td>\n",
       "      <td>Робот для мойки окон</td>\n",
       "      <td>Бытовая техника</td>\n",
       "      <td>3</td>\n",
       "    </tr>\n",
       "    <tr>\n",
       "      <th>3</th>\n",
       "      <td>как поет в своих песнях Раут \"хороший клоун - ...</td>\n",
       "      <td>Предтренировочный комплекс</td>\n",
       "      <td>Спортивное питание</td>\n",
       "      <td>5</td>\n",
       "    </tr>\n",
       "    <tr>\n",
       "      <th>4</th>\n",
       "      <td>Идеально подошла по размеру, все работают</td>\n",
       "      <td>Умная дверная ручка</td>\n",
       "      <td>Бытовая техника</td>\n",
       "      <td>5</td>\n",
       "    </tr>\n",
       "    <tr>\n",
       "      <th>...</th>\n",
       "      <td>...</td>\n",
       "      <td>...</td>\n",
       "      <td>...</td>\n",
       "      <td>...</td>\n",
       "    </tr>\n",
       "    <tr>\n",
       "      <th>11693</th>\n",
       "      <td>Все целое и сухое. Доставка в срок. Состав хор...</td>\n",
       "      <td>Удобрение для сливы</td>\n",
       "      <td>Сад и огород</td>\n",
       "      <td>5</td>\n",
       "    </tr>\n",
       "    <tr>\n",
       "      <th>11694</th>\n",
       "      <td>Хорошо упакованы</td>\n",
       "      <td>Тапочки</td>\n",
       "      <td>Одежда</td>\n",
       "      <td>5</td>\n",
       "    </tr>\n",
       "    <tr>\n",
       "      <th>11695</th>\n",
       "      <td>телефон супер,четыре дня держит заряд в постоя...</td>\n",
       "      <td>Смартфон</td>\n",
       "      <td>Электроника</td>\n",
       "      <td>5</td>\n",
       "    </tr>\n",
       "    <tr>\n",
       "      <th>11696</th>\n",
       "      <td>Прекрасно моет Окна и плитку.</td>\n",
       "      <td>Робот мойщик окон</td>\n",
       "      <td>Бытовая техника</td>\n",
       "      <td>5</td>\n",
       "    </tr>\n",
       "    <tr>\n",
       "      <th>11697</th>\n",
       "      <td>Шустрый, не сильно громкий, убирает хорошо.</td>\n",
       "      <td>Робот мойщик окон</td>\n",
       "      <td>Бытовая техника</td>\n",
       "      <td>5</td>\n",
       "    </tr>\n",
       "  </tbody>\n",
       "</table>\n",
       "<p>11698 rows × 4 columns</p>\n",
       "</div>"
      ]
     },
     "execution_count": 162,
     "metadata": {},
     "output_type": "execute_result"
    }
   ],
   "execution_count": 162
  },
  {
   "metadata": {
    "ExecuteTime": {
     "end_time": "2025-05-18T13:06:31.879341Z",
     "start_time": "2025-05-18T13:06:31.863833Z"
    }
   },
   "cell_type": "code",
   "source": "df.describe()",
   "id": "a2b4265e604998ed",
   "outputs": [
    {
     "data": {
      "text/plain": [
       "              stars\n",
       "count  11698.000000\n",
       "mean       4.389041\n",
       "std        1.230628\n",
       "min        1.000000\n",
       "25%        5.000000\n",
       "50%        5.000000\n",
       "75%        5.000000\n",
       "max        5.000000"
      ],
      "text/html": [
       "<div>\n",
       "<style scoped>\n",
       "    .dataframe tbody tr th:only-of-type {\n",
       "        vertical-align: middle;\n",
       "    }\n",
       "\n",
       "    .dataframe tbody tr th {\n",
       "        vertical-align: top;\n",
       "    }\n",
       "\n",
       "    .dataframe thead th {\n",
       "        text-align: right;\n",
       "    }\n",
       "</style>\n",
       "<table border=\"1\" class=\"dataframe\">\n",
       "  <thead>\n",
       "    <tr style=\"text-align: right;\">\n",
       "      <th></th>\n",
       "      <th>stars</th>\n",
       "    </tr>\n",
       "  </thead>\n",
       "  <tbody>\n",
       "    <tr>\n",
       "      <th>count</th>\n",
       "      <td>11698.000000</td>\n",
       "    </tr>\n",
       "    <tr>\n",
       "      <th>mean</th>\n",
       "      <td>4.389041</td>\n",
       "    </tr>\n",
       "    <tr>\n",
       "      <th>std</th>\n",
       "      <td>1.230628</td>\n",
       "    </tr>\n",
       "    <tr>\n",
       "      <th>min</th>\n",
       "      <td>1.000000</td>\n",
       "    </tr>\n",
       "    <tr>\n",
       "      <th>25%</th>\n",
       "      <td>5.000000</td>\n",
       "    </tr>\n",
       "    <tr>\n",
       "      <th>50%</th>\n",
       "      <td>5.000000</td>\n",
       "    </tr>\n",
       "    <tr>\n",
       "      <th>75%</th>\n",
       "      <td>5.000000</td>\n",
       "    </tr>\n",
       "    <tr>\n",
       "      <th>max</th>\n",
       "      <td>5.000000</td>\n",
       "    </tr>\n",
       "  </tbody>\n",
       "</table>\n",
       "</div>"
      ]
     },
     "execution_count": 163,
     "metadata": {},
     "output_type": "execute_result"
    }
   ],
   "execution_count": 163
  },
  {
   "metadata": {
    "ExecuteTime": {
     "end_time": "2025-05-18T13:06:31.972866Z",
     "start_time": "2025-05-18T13:06:31.942879Z"
    }
   },
   "cell_type": "code",
   "source": [
    "from sklearn.model_selection import train_test_split\n",
    "from datasets import Dataset\n",
    "\n",
    "df_train, df_val = train_test_split(\n",
    "    df, test_size=0.2, random_state=RANDOM_STATE, stratify=df['stars']\n",
    ")\n",
    "\n",
    "dataset = {\n",
    "    'train': Dataset.from_pandas(df_train.reset_index(drop=True)),\n",
    "    'validation': Dataset.from_pandas(df_val.reset_index(drop=True))\n",
    "}"
   ],
   "id": "f2117e56b9b29d82",
   "outputs": [],
   "execution_count": 164
  },
  {
   "metadata": {
    "ExecuteTime": {
     "end_time": "2025-05-18T13:06:32.035410Z",
     "start_time": "2025-05-18T13:06:32.017965Z"
    }
   },
   "cell_type": "code",
   "source": [
    "import torch.nn as nn\n",
    "from transformers import Trainer\n",
    "\n",
    "class WeightedCELossTrainer(Trainer):\n",
    "    def __init__(self, *args, class_weights=None, **kwargs):\n",
    "        super().__init__(*args, **kwargs)\n",
    "        self.class_weights = class_weights\n",
    "\n",
    "    def compute_loss(self, model, inputs, return_outputs=False, **kwargs):\n",
    "        labels = inputs.get(\"labels\")\n",
    "        outputs = model(**inputs)\n",
    "        logits = outputs.get(\"logits\")\n",
    "\n",
    "        loss_fct = nn.CrossEntropyLoss(weight=self.class_weights.to(model.device))\n",
    "        loss = loss_fct(logits, labels)\n",
    "        \n",
    "        return (loss, outputs) if return_outputs else loss"
   ],
   "id": "557a40df61431a56",
   "outputs": [],
   "execution_count": 165
  },
  {
   "metadata": {
    "ExecuteTime": {
     "end_time": "2025-05-18T13:06:32.050920Z",
     "start_time": "2025-05-18T13:06:32.040410Z"
    }
   },
   "cell_type": "code",
   "source": [
    "from datasets import ClassLabel\n",
    "\n",
    "class_counts = np.bincount(df_train['stars'] - 1, minlength=5)\n",
    "class_weights = (1.0 / class_counts)\n",
    "class_weights = class_weights / class_weights.sum() * len(class_counts)\n",
    "class_weights = torch.tensor(class_weights, dtype=torch.float)\n",
    "\n",
    "labels = ClassLabel(num_classes=5, names=[str(i) for i in range(1,6)])"
   ],
   "id": "1d96082ebef2f9a8",
   "outputs": [],
   "execution_count": 166
  },
  {
   "metadata": {
    "ExecuteTime": {
     "end_time": "2025-05-18T13:06:32.097333Z",
     "start_time": "2025-05-18T13:06:32.083247Z"
    }
   },
   "cell_type": "code",
   "source": [
    "def preprocess(example):\n",
    "    example['label'] = labels.str2int(str(example['stars']))\n",
    "    return example"
   ],
   "id": "42f1693d3c468c65",
   "outputs": [],
   "execution_count": 167
  },
  {
   "metadata": {
    "ExecuteTime": {
     "end_time": "2025-05-18T13:06:32.144779Z",
     "start_time": "2025-05-18T13:06:32.130349Z"
    }
   },
   "cell_type": "code",
   "source": [
    "def tokenize_fn(batch):\n",
    "    texts = [\n",
    "        (f\"[PRODUCT] {pn} \"\n",
    "         f\"[REVIEW] {rt} \"\n",
    "         f\"[CATEGORY] {cat} \")\n",
    "        for pn, rt, cat in zip(batch['product_name'], batch['review_text'], batch['category'])\n",
    "    ]\n",
    "    \n",
    "    return tokenizer(texts, truncation=True, padding='max_length', max_length=256)"
   ],
   "id": "303b3c8ca69ffaac",
   "outputs": [],
   "execution_count": 168
  },
  {
   "metadata": {
    "ExecuteTime": {
     "end_time": "2025-05-18T13:06:33.342004Z",
     "start_time": "2025-05-18T13:06:32.177716Z"
    }
   },
   "cell_type": "code",
   "source": [
    "dataset = {split: ds.map(tokenize_fn, batched=True) for split, ds in dataset.items()}\n",
    "dataset = {\n",
    "    split: ds.remove_columns(['product_name', 'review_text', 'category', 'stars'])\n",
    "    for split, ds in dataset.items()\n",
    "}"
   ],
   "id": "ff11d4f918021f5c",
   "outputs": [
    {
     "name": "stderr",
     "output_type": "stream",
     "text": [
      "Map: 100%|██████████| 9358/9358 [00:00<00:00, 10197.62 examples/s]\n",
      "Map: 100%|██████████| 2340/2340 [00:00<00:00, 12352.32 examples/s]\n"
     ]
    }
   ],
   "execution_count": 169
  },
  {
   "metadata": {
    "ExecuteTime": {
     "end_time": "2025-05-18T13:06:33.387992Z",
     "start_time": "2025-05-18T13:06:33.373791Z"
    }
   },
   "cell_type": "code",
   "source": [
    "from sklearn.metrics import accuracy_score, f1_score, classification_report\n",
    "\n",
    "def compute_metrics(pred):\n",
    "    labels = pred.label_ids\n",
    "    preds = np.argmax(pred.predictions, axis=1)\n",
    "    return {\n",
    "        'accuracy': accuracy_score(labels, preds),\n",
    "        'f1': f1_score(labels, preds, average='macro'),\n",
    "    }"
   ],
   "id": "536b00582fd6862f",
   "outputs": [],
   "execution_count": 170
  },
  {
   "metadata": {
    "ExecuteTime": {
     "end_time": "2025-05-18T13:06:33.435101Z",
     "start_time": "2025-05-18T13:06:33.420578Z"
    }
   },
   "cell_type": "code",
   "source": [
    "from transformers import Trainer, TrainingArguments, EarlyStoppingCallback, AutoModelForSequenceClassification, AutoTokenizer\n",
    "from datasets import load_dataset, ClassLabel, Dataset\n",
    "\n",
    "if TRAIN:\n",
    "    model = AutoModelForSequenceClassification.from_pretrained(MODEL, num_labels=5)\n",
    "    tokenizer = AutoTokenizer.from_pretrained(MODEL)\n",
    "    dataset = {split: ds.map(preprocess) for split, ds in dataset.items()}\n",
    "    \n",
    "    training_args = TrainingArguments(\n",
    "        output_dir=OUTPUT_PATH,\n",
    "        eval_strategy=\"epoch\",\n",
    "        save_strategy=\"epoch\",\n",
    "        load_best_model_at_end=True,\n",
    "        metric_for_best_model=\"f1\",\n",
    "        save_total_limit=2,\n",
    "        num_train_epochs=30,\n",
    "        per_device_train_batch_size=8,\n",
    "        per_device_eval_batch_size=8,\n",
    "        warmup_ratio=0.1,\n",
    "        weight_decay=0.01,\n",
    "        learning_rate=2e-5,\n",
    "        logging_steps=25,\n",
    "        seed=RANDOM_STATE,\n",
    "        fp16=torch.cuda.is_available(),\n",
    "    )\n",
    "    \n",
    "    trainer = WeightedCELossTrainer(\n",
    "        model=model,\n",
    "        args=training_args,\n",
    "        train_dataset=dataset['train'],\n",
    "        eval_dataset=dataset['validation'],\n",
    "        tokenizer=tokenizer,\n",
    "        compute_metrics=compute_metrics,\n",
    "        callbacks=[EarlyStoppingCallback(early_stopping_patience=5)],\n",
    "        class_weights=class_weights,\n",
    "    )\n",
    "    \n",
    "    trainer.train()\n",
    "    trainer.save_model(MODEL_PATH)"
   ],
   "id": "1ed035bdb940089e",
   "outputs": [],
   "execution_count": 171
  },
  {
   "metadata": {
    "ExecuteTime": {
     "end_time": "2025-05-18T13:06:37.126220Z",
     "start_time": "2025-05-18T13:06:33.466373Z"
    }
   },
   "cell_type": "code",
   "source": [
    "if DEMONSTRATION:\n",
    "    tokenizer = AutoTokenizer.from_pretrained(MODEL_PATH, local_files_only=True)\n",
    "    model = AutoModelForSequenceClassification.from_pretrained(MODEL_PATH, local_files_only=True)\n",
    "    trainer = Trainer(model=model, tokenizer=tokenizer)\n",
    "    \n",
    "    df_test = pd.read_csv('test.csv')\n",
    "    df_test.drop(columns=['usefull', 'unusefull'], inplace=True)\n",
    "    dataset_test = Dataset.from_pandas(df_test)\n",
    "    dataset_test = dataset_test.map(tokenize_fn, batched=True)\n",
    "    dataset_test = dataset_test.remove_columns(\n",
    "        [col for col in dataset_test.column_names if col not in tokenizer.model_input_names]\n",
    "    )\n",
    "    \n",
    "    test_outputs = trainer.predict(dataset_test)\n",
    "    preds = np.argmax(test_outputs.predictions, axis=-1)\n",
    "    y_pred_test = [int(labels.int2str(int(label))) for label in preds]\n",
    "    \n",
    "    df_submission = pd.DataFrame({\n",
    "        '_id': df_test['_id'],\n",
    "        'stars': y_pred_test\n",
    "    })\n",
    "    df_submission.to_csv('submission.csv', index=False)"
   ],
   "id": "7484caa5ba036719",
   "outputs": [
    {
     "name": "stderr",
     "output_type": "stream",
     "text": [
      "C:\\Users\\DesMo\\AppData\\Local\\Temp\\ipykernel_18324\\1769435970.py:4: FutureWarning: `tokenizer` is deprecated and will be removed in version 5.0.0 for `Trainer.__init__`. Use `processing_class` instead.\n",
      "  trainer = Trainer(model=model, tokenizer=tokenizer)\n",
      "Map: 100%|██████████| 957/957 [00:00<00:00, 12258.05 examples/s]\n"
     ]
    },
    {
     "data": {
      "text/plain": [
       "<IPython.core.display.HTML object>"
      ],
      "text/html": []
     },
     "metadata": {},
     "output_type": "display_data"
    }
   ],
   "execution_count": 172
  }
 ],
 "metadata": {
  "kernelspec": {
   "display_name": "Python 3",
   "language": "python",
   "name": "python3"
  },
  "language_info": {
   "codemirror_mode": {
    "name": "ipython",
    "version": 2
   },
   "file_extension": ".py",
   "mimetype": "text/x-python",
   "name": "python",
   "nbconvert_exporter": "python",
   "pygments_lexer": "ipython2",
   "version": "2.7.6"
  }
 },
 "nbformat": 4,
 "nbformat_minor": 5
}
